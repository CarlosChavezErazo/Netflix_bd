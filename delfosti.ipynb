{
  "nbformat": 4,
  "nbformat_minor": 0,
  "metadata": {
    "colab": {
      "provenance": [],
      "authorship_tag": "ABX9TyOV4+9E9p77kjsJxOeh/jn9",
      "include_colab_link": true
    },
    "kernelspec": {
      "name": "python3",
      "display_name": "Python 3"
    },
    "language_info": {
      "name": "python"
    }
  },
  "cells": [
    {
      "cell_type": "markdown",
      "metadata": {
        "id": "view-in-github",
        "colab_type": "text"
      },
      "source": [
        "<a href=\"https://colab.research.google.com/github/CarlosChavezErazo/Netflix_bd/blob/main/delfosti.ipynb\" target=\"_parent\"><img src=\"https://colab.research.google.com/assets/colab-badge.svg\" alt=\"Open In Colab\"/></a>"
      ]
    },
    {
      "cell_type": "markdown",
      "source": [
        "# CARGA Y EXPLORACION DE DATOS"
      ],
      "metadata": {
        "id": "mHKQ6cwmdzzB"
      }
    },
    {
      "cell_type": "markdown",
      "source": [],
      "metadata": {
        "id": "T4N2DfEdSewg"
      }
    },
    {
      "cell_type": "code",
      "source": [
        "# Cargamos las librerias a usar\n",
        "import numpy as np\n",
        "import pandas as pd\n",
        "import seaborn as sns\n",
        "import matplotlib.pyplot as plt\n"
      ],
      "metadata": {
        "id": "Y3N4F5sNQy5w"
      },
      "execution_count": null,
      "outputs": []
    },
    {
      "cell_type": "code",
      "source": [
        "# Cargamos la BD desde GitHub\n",
        "df = pd.read_csv('https://raw.githubusercontent.com/CarlosChavezErazo/Netflix_bd/refs/heads/main/netflix_titles.csv')\n",
        "df.info()"
      ],
      "metadata": {
        "colab": {
          "base_uri": "https://localhost:8080/"
        },
        "id": "Urt7TmrRS8k2",
        "outputId": "488dcc43-54dd-47c9-8aff-5e16b1f9ad54"
      },
      "execution_count": null,
      "outputs": [
        {
          "output_type": "stream",
          "name": "stdout",
          "text": [
            "<class 'pandas.core.frame.DataFrame'>\n",
            "RangeIndex: 8807 entries, 0 to 8806\n",
            "Data columns (total 12 columns):\n",
            " #   Column        Non-Null Count  Dtype \n",
            "---  ------        --------------  ----- \n",
            " 0   show_id       8807 non-null   object\n",
            " 1   type          8807 non-null   object\n",
            " 2   title         8807 non-null   object\n",
            " 3   director      6173 non-null   object\n",
            " 4   cast          7982 non-null   object\n",
            " 5   country       7976 non-null   object\n",
            " 6   date_added    8797 non-null   object\n",
            " 7   release_year  8807 non-null   int64 \n",
            " 8   rating        8803 non-null   object\n",
            " 9   duration      8804 non-null   object\n",
            " 10  listed_in     8807 non-null   object\n",
            " 11  description   8807 non-null   object\n",
            "dtypes: int64(1), object(11)\n",
            "memory usage: 825.8+ KB\n"
          ]
        }
      ]
    },
    {
      "cell_type": "markdown",
      "source": [
        "# LIMPIEZA DE DATOS"
      ],
      "metadata": {
        "id": "NNkqFdnufH8X"
      }
    },
    {
      "cell_type": "code",
      "source": [
        "# Canviamos a formato fecha y reestructuramos la duracion\n",
        "\n",
        "df['date_added'] = pd.to_datetime(df['date_added'],format='mixed')\n",
        "df[['duration_value','duration_unit']] = df['duration'].str.extract(r'(\\d+)\\s*(\\w+)');\n",
        "df['duration_value'] = pd.to_numeric(df['duration_value'])\n",
        "\n",
        "print(df[['duration_value', 'duration_unit']])"
      ],
      "metadata": {
        "colab": {
          "base_uri": "https://localhost:8080/"
        },
        "id": "lvmqHBO7fNRe",
        "outputId": "3102700c-6f28-468a-8d1c-9fa1472bc225"
      },
      "execution_count": null,
      "outputs": [
        {
          "output_type": "stream",
          "name": "stdout",
          "text": [
            "      duration_value duration_unit\n",
            "0               90.0           min\n",
            "1                2.0       Seasons\n",
            "2                1.0        Season\n",
            "3                1.0        Season\n",
            "4                2.0       Seasons\n",
            "...              ...           ...\n",
            "8802           158.0           min\n",
            "8803             2.0       Seasons\n",
            "8804            88.0           min\n",
            "8805            88.0           min\n",
            "8806           111.0           min\n",
            "\n",
            "[8807 rows x 2 columns]\n"
          ]
        }
      ]
    },
    {
      "cell_type": "code",
      "source": [
        "# Limpieza de las columnas\n",
        "df['release_year'] = pd.to_numeric(df['release_year'], errors='coerce')\n",
        "df['title'] = df['title'].str.title()\n",
        "df['country'] = df['country'].str.strip().str.title()\n",
        "df['rating'] = df['rating'].str.strip().str.upper()"
      ],
      "metadata": {
        "id": "KDdKEkB1fQdH"
      },
      "execution_count": null,
      "outputs": []
    },
    {
      "cell_type": "code",
      "source": [
        "# Eliminar duplicados\n",
        "print(\"Duplicate rows before:\", df.duplicated().sum())\n",
        "df = df.drop_duplicates()\n",
        "if 'description' in df.columns:\n",
        "    df.drop(columns=['description'], inplace=True)\n",
        "\n",
        "# Verificar directior y reparto\n",
        "df['dir_cast'] = df['director'] + '---' + df['cast'] #combinamos\n",
        "counts = df['dir_cast'].value_counts() # cuenta\n",
        "filtered_counts = counts[counts >= 3] # filtra mas de 3 veces\n",
        "filtered_values = filtered_counts.index # Extrae la columna combinada\n",
        "\n",
        "# Agregamos indice a la nueva columna combinada\n",
        "lst_dir_cast = list(filtered_values)\n",
        "\n",
        "#Agregamos \"null\" alos espacion vacios\n",
        "dict_direcast = dict()\n",
        "for i in lst_dir_cast:\n",
        "    director, cast = i.split('---')\n",
        "    dict_direcast[director] = cast\n",
        "\n",
        "for i in range(len(dict_direcast)):\n",
        "    director_name = list(dict_direcast.items())[i][0]\n",
        "    cast_name = list(dict_direcast.items())[i][1]\n",
        "\n",
        "    df.loc[(df['director'].isna()) & (df['cast'] == cast_name), 'director'] = director_name\n",
        "\n",
        "df.loc[df['director'].isna(),'director'] = 'null'"
      ],
      "metadata": {
        "colab": {
          "base_uri": "https://localhost:8080/"
        },
        "id": "60UQ9ugVfXU3",
        "outputId": "68e99da5-d09a-4aa9-9a7c-4cf07672d2fe"
      },
      "execution_count": null,
      "outputs": [
        {
          "output_type": "stream",
          "name": "stdout",
          "text": [
            "Duplicate rows before: 0\n"
          ]
        }
      ]
    },
    {
      "cell_type": "code",
      "source": [
        "# Agregamos \"null\" a las columnas \"cast\" y \"country\"\n",
        "directors = df['director']\n",
        "countries = df['country']\n",
        "\n",
        "pairs = zip(directors, countries)\n",
        "director_country = dict(pairs)\n",
        "\n",
        "for director, country in director_country.items():\n",
        "    df.loc[(df['country'].isna()) & (df['director'] == director), 'country'] = country\n",
        "\n",
        "df.loc[df['country'].isna(), 'country'] = 'null'\n",
        "df.loc[df['cast'].isna(), 'cast'] = 'null'"
      ],
      "metadata": {
        "id": "-qDQWkPbfcn2"
      },
      "execution_count": null,
      "outputs": []
    },
    {
      "cell_type": "code",
      "source": [
        "# Eliminamos de las  filas vacías de \"date_added, rating, duration\"\n",
        "df.drop(df[df['date_added'].isna()].index, axis=0, inplace=True)\n",
        "df.drop(df[df['rating'].isna()].index, axis=0, inplace=True)\n",
        "df.drop(df[df['duration'].isna()].index, axis=0, inplace=True)"
      ],
      "metadata": {
        "id": "Dcpf7woPfgGe"
      },
      "execution_count": null,
      "outputs": []
    },
    {
      "cell_type": "code",
      "source": [
        "# Verificamos \"date_added\" anterior al año de lanzamiento\n",
        "invalid_dates_count = sum(df['date_added'].dt.year < df['release_year'])\n",
        "print(\"Registros con fechas inconsistentes:\", invalid_dates_count)\n",
        "df.loc[(df['date_added'].dt.year < df['release_year']), ['date_added', 'release_year']]\n",
        "\n",
        "# Verificamos que no haya inconsistencias\n",
        "inconsistent_years = df['date_added'].dt.year < df['release_year']\n",
        "df.loc[inconsistent_years, 'release_year'] = df.loc[inconsistent_years, 'date_added'].dt.year\n",
        "df.iloc[[1551, 1696, 2920, 3168]]\n",
        "print('Ocurrencia',sum(df['date_added'].dt.year < df['release_year']))\n"
      ],
      "metadata": {
        "colab": {
          "base_uri": "https://localhost:8080/"
        },
        "id": "tmhWqgXRfi6W",
        "outputId": "4e4410a2-b1fb-44d6-a8e9-cfc6adecce2b"
      },
      "execution_count": null,
      "outputs": [
        {
          "output_type": "stream",
          "name": "stdout",
          "text": [
            "Records with inconsistent dates: 14\n",
            "Inconsistent records preview:\n",
            "Occurence 0\n"
          ]
        }
      ]
    },
    {
      "cell_type": "code",
      "source": [
        "# Nueva columnas del año en el que se añadio a Netflix y la antiguedad\n",
        "df['year_added'] = pd.to_datetime(df['date_added'], errors='coerce').dt.year\n",
        "df['year_added']\n",
        "df['age_at_added'] = df['year_added'] - df['release_year']\n",
        "df['age_at_added']\n",
        "\n",
        "# Agregamos la columna is_new_release\n",
        "df['is_new_release'] = (df['age_at_added'] <= 1).astype(int)\n",
        "df['is_new_release'] = df['is_new_release'].map({1: 'Nuevo lanzamiento', 0: 'Antiguo lanzamiento'})\n",
        "df['is_new_release']\n",
        "\n"
      ],
      "metadata": {
        "colab": {
          "base_uri": "https://localhost:8080/",
          "height": 458
        },
        "id": "emDtqUH8ftK-",
        "outputId": "c98fab4d-fbd5-4b11-e883-e5505fb1e4ca"
      },
      "execution_count": null,
      "outputs": [
        {
          "output_type": "execute_result",
          "data": {
            "text/plain": [
              "0       2020\n",
              "1       2020\n",
              "2       2020\n",
              "3       2020\n",
              "4       2020\n",
              "        ... \n",
              "8802    2000\n",
              "8803    2010\n",
              "8804    2000\n",
              "8805    2000\n",
              "8806    2010\n",
              "Name: release_decade, Length: 8790, dtype: int64"
            ],
            "text/html": [
              "<div>\n",
              "<style scoped>\n",
              "    .dataframe tbody tr th:only-of-type {\n",
              "        vertical-align: middle;\n",
              "    }\n",
              "\n",
              "    .dataframe tbody tr th {\n",
              "        vertical-align: top;\n",
              "    }\n",
              "\n",
              "    .dataframe thead th {\n",
              "        text-align: right;\n",
              "    }\n",
              "</style>\n",
              "<table border=\"1\" class=\"dataframe\">\n",
              "  <thead>\n",
              "    <tr style=\"text-align: right;\">\n",
              "      <th></th>\n",
              "      <th>release_decade</th>\n",
              "    </tr>\n",
              "  </thead>\n",
              "  <tbody>\n",
              "    <tr>\n",
              "      <th>0</th>\n",
              "      <td>2020</td>\n",
              "    </tr>\n",
              "    <tr>\n",
              "      <th>1</th>\n",
              "      <td>2020</td>\n",
              "    </tr>\n",
              "    <tr>\n",
              "      <th>2</th>\n",
              "      <td>2020</td>\n",
              "    </tr>\n",
              "    <tr>\n",
              "      <th>3</th>\n",
              "      <td>2020</td>\n",
              "    </tr>\n",
              "    <tr>\n",
              "      <th>4</th>\n",
              "      <td>2020</td>\n",
              "    </tr>\n",
              "    <tr>\n",
              "      <th>...</th>\n",
              "      <td>...</td>\n",
              "    </tr>\n",
              "    <tr>\n",
              "      <th>8802</th>\n",
              "      <td>2000</td>\n",
              "    </tr>\n",
              "    <tr>\n",
              "      <th>8803</th>\n",
              "      <td>2010</td>\n",
              "    </tr>\n",
              "    <tr>\n",
              "      <th>8804</th>\n",
              "      <td>2000</td>\n",
              "    </tr>\n",
              "    <tr>\n",
              "      <th>8805</th>\n",
              "      <td>2000</td>\n",
              "    </tr>\n",
              "    <tr>\n",
              "      <th>8806</th>\n",
              "      <td>2010</td>\n",
              "    </tr>\n",
              "  </tbody>\n",
              "</table>\n",
              "<p>8790 rows × 1 columns</p>\n",
              "</div><br><label><b>dtype:</b> int64</label>"
            ]
          },
          "metadata": {},
          "execution_count": 22
        }
      ]
    },
    {
      "cell_type": "markdown",
      "source": [
        "# VALIDAMOS LOS DATOS Y GUARDAMOS"
      ],
      "metadata": {
        "id": "NnbW_i8af6yO"
      }
    },
    {
      "cell_type": "code",
      "source": [
        "# Eliminamos columnas temporales añadidos anteriormente, verificando las inconsistencias de los datos\n",
        "if 'dir_cast' in df.columns:\n",
        "    df.drop(columns=['dir_cast'], inplace=True)\n",
        "\n",
        "print(\"Tipos de datos:\")\n",
        "print(df.dtypes[['date_added', 'duration_value']])\n",
        "\n",
        "invalid_years = df[df['date_added'] < pd.Timestamp('1997-01-01')]\n",
        "print(f\"Registros con años añadidos antes del1997: {len(invalid_years)}\")\n",
        "print(invalid_years[['title', 'release_year', 'date_added']].head())\n",
        "\n",
        "missing_summary = df[['title', 'director', 'cast', 'country', 'date_added', 'release_year', 'duration_value']].isna().sum()\n",
        "print(\"Valores faltantes:\")\n",
        "print(missing_summary)\n",
        "\n",
        "print(\"Ejemplo de datos limpios y validados:\")\n",
        "print(df.sample(5))\n",
        "\n",
        "df = df.reset_index(drop=True)"
      ],
      "metadata": {
        "colab": {
          "base_uri": "https://localhost:8080/"
        },
        "id": "NUqghwaOf2eW",
        "outputId": "a24b9589-66bc-4617-b560-e9298a4d2386"
      },
      "execution_count": null,
      "outputs": [
        {
          "output_type": "stream",
          "name": "stdout",
          "text": [
            "Data types check:\n",
            "date_added        datetime64[ns]\n",
            "duration_value           float64\n",
            "dtype: object\n",
            "Records with added year before 1997: 0\n",
            "Empty DataFrame\n",
            "Columns: [title, release_year, date_added]\n",
            "Index: []\n",
            "Missing values check (important fields):\n",
            "title             0\n",
            "director          0\n",
            "cast              0\n",
            "country           0\n",
            "date_added        0\n",
            "release_year      0\n",
            "duration_value    0\n",
            "dtype: int64\n",
            "Sample of cleaned and validated dataset:\n",
            "     show_id     type                                              title  \\\n",
            "7862   s7863  TV Show                                            Revenge   \n",
            "2943   s2944    Movie                          The Ballad Of Lefty Brown   \n",
            "7778   s7779    Movie  Power Rangers Super Megaforce: The Legendary B...   \n",
            "3509   s3510    Movie                                        Kabir Singh   \n",
            "8181   s8182    Movie                                 The Adventure Club   \n",
            "\n",
            "                              director  \\\n",
            "7862                              null   \n",
            "2943                       Jared Moshé   \n",
            "7778  Charlie Haskell, Koichi Sakamoto   \n",
            "3509               Sandeep Reddy Vanga   \n",
            "8181                    Geoff Anderson   \n",
            "\n",
            "                                                   cast        country  \\\n",
            "7862  Lalita Panyopas, Saksit Tangtong, Tao Somchai ...           null   \n",
            "2943  Bill Pullman, Kathy Baker, Jim Caviezel, Josep...  United States   \n",
            "7778  Andrew M. Gray, Ciara Hanna, John Mark Louderm...  United States   \n",
            "3509  Shahid Kapoor, Kiara Advani, Suresh Oberoi, Ar...          India   \n",
            "8181  Sam Ashe Arnold, Jakob Davies, Dalila Bela, Ro...         Canada   \n",
            "\n",
            "     date_added  release_year rating  duration  \\\n",
            "7862 2019-05-02          2017  TV-MA  1 Season   \n",
            "2943 2020-02-07          2017      R   112 min   \n",
            "7778 2016-01-01          2014  TV-Y7    55 min   \n",
            "3509 2019-09-19          2019  TV-MA   171 min   \n",
            "8181 2017-05-10          2016  TV-Y7    88 min   \n",
            "\n",
            "                                              listed_in  duration_value  \\\n",
            "7862  Crime TV Shows, International TV Shows, TV Dramas             1.0   \n",
            "2943                                             Dramas           112.0   \n",
            "7778                                             Movies            55.0   \n",
            "3509      Dramas, International Movies, Romantic Movies           171.0   \n",
            "8181                           Children & Family Movies            88.0   \n",
            "\n",
            "     duration_unit  year_added  age_at_added       is_new_release  \\\n",
            "7862        Season        2019             2  Antiguo lanzamiento   \n",
            "2943           min        2020             3  Antiguo lanzamiento   \n",
            "7778           min        2016             2  Antiguo lanzamiento   \n",
            "3509           min        2019             0    Nuevo lanzamiento   \n",
            "8181           min        2017             1    Nuevo lanzamiento   \n",
            "\n",
            "      release_decade  \n",
            "7862            2010  \n",
            "2943            2010  \n",
            "7778            2010  \n",
            "3509            2010  \n",
            "8181            2010  \n"
          ]
        }
      ]
    },
    {
      "cell_type": "code",
      "source": [
        "from google.colab import files\n",
        "df.to_csv('netflix_titles_clean.csv', index=False)\n",
        "files.download('netflix_titles_clean.csv')"
      ],
      "metadata": {
        "colab": {
          "base_uri": "https://localhost:8080/",
          "height": 17
        },
        "id": "7AUPd0x9hd10",
        "outputId": "f4a04ef1-0464-4e1c-d434-2f02c4c65401"
      },
      "execution_count": null,
      "outputs": [
        {
          "output_type": "display_data",
          "data": {
            "text/plain": [
              "<IPython.core.display.Javascript object>"
            ],
            "application/javascript": [
              "\n",
              "    async function download(id, filename, size) {\n",
              "      if (!google.colab.kernel.accessAllowed) {\n",
              "        return;\n",
              "      }\n",
              "      const div = document.createElement('div');\n",
              "      const label = document.createElement('label');\n",
              "      label.textContent = `Downloading \"${filename}\": `;\n",
              "      div.appendChild(label);\n",
              "      const progress = document.createElement('progress');\n",
              "      progress.max = size;\n",
              "      div.appendChild(progress);\n",
              "      document.body.appendChild(div);\n",
              "\n",
              "      const buffers = [];\n",
              "      let downloaded = 0;\n",
              "\n",
              "      const channel = await google.colab.kernel.comms.open(id);\n",
              "      // Send a message to notify the kernel that we're ready.\n",
              "      channel.send({})\n",
              "\n",
              "      for await (const message of channel.messages) {\n",
              "        // Send a message to notify the kernel that we're ready.\n",
              "        channel.send({})\n",
              "        if (message.buffers) {\n",
              "          for (const buffer of message.buffers) {\n",
              "            buffers.push(buffer);\n",
              "            downloaded += buffer.byteLength;\n",
              "            progress.value = downloaded;\n",
              "          }\n",
              "        }\n",
              "      }\n",
              "      const blob = new Blob(buffers, {type: 'application/binary'});\n",
              "      const a = document.createElement('a');\n",
              "      a.href = window.URL.createObjectURL(blob);\n",
              "      a.download = filename;\n",
              "      div.appendChild(a);\n",
              "      a.click();\n",
              "      div.remove();\n",
              "    }\n",
              "  "
            ]
          },
          "metadata": {}
        },
        {
          "output_type": "display_data",
          "data": {
            "text/plain": [
              "<IPython.core.display.Javascript object>"
            ],
            "application/javascript": [
              "download(\"download_fa8edc4b-e2f6-4557-aff0-255998d83585\", \"netflix_titles_clean.csv\", 2428385)"
            ]
          },
          "metadata": {}
        }
      ]
    }
  ]
}